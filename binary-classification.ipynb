{
 "cells": [
  {
   "cell_type": "markdown",
   "metadata": {},
   "source": [
    "### Binary Classification\n",
    "https://colab.research.google.com/github/google/eng-edu/blob/main/ml/cc/exercises/binary_classification.ipynb"
   ]
  },
  {
   "cell_type": "markdown",
   "metadata": {},
   "source": [
    "Question: Are houses in this neighborhood higher than a certain Price?"
   ]
  },
  {
   "cell_type": "code",
   "execution_count": 1,
   "metadata": {},
   "outputs": [
    {
     "name": "stderr",
     "output_type": "stream",
     "text": [
      "2023-09-21 20:20:49.023486: I tensorflow/tsl/cuda/cudart_stub.cc:28] Could not find cuda drivers on your machine, GPU will not be used.\n",
      "2023-09-21 20:20:49.781380: I tensorflow/tsl/cuda/cudart_stub.cc:28] Could not find cuda drivers on your machine, GPU will not be used.\n",
      "2023-09-21 20:20:49.789021: I tensorflow/core/platform/cpu_feature_guard.cc:182] This TensorFlow binary is optimized to use available CPU instructions in performance-critical operations.\n",
      "To enable the following instructions: AVX2 FMA, in other operations, rebuild TensorFlow with the appropriate compiler flags.\n",
      "2023-09-21 20:20:56.183556: W tensorflow/compiler/tf2tensorrt/utils/py_utils.cc:38] TF-TRT Warning: Could not find TensorRT\n"
     ]
    }
   ],
   "source": [
    "import pandas as pd\n",
    "import matplotlib.pyplot as plt\n",
    "import numpy as np\n",
    "import tensorflow as tf\n",
    "from tensorflow.keras import layers"
   ]
  },
  {
   "cell_type": "code",
   "execution_count": 2,
   "metadata": {},
   "outputs": [],
   "source": [
    "train_df = pd.read_csv('dataset/california_housing_train.csv')\n",
    "test_df = pd.read_csv('dataset/california_housing_test.csv')"
   ]
  },
  {
   "cell_type": "code",
   "execution_count": 3,
   "metadata": {},
   "outputs": [
    {
     "data": {
      "text/html": [
       "<div>\n",
       "<style scoped>\n",
       "    .dataframe tbody tr th:only-of-type {\n",
       "        vertical-align: middle;\n",
       "    }\n",
       "\n",
       "    .dataframe tbody tr th {\n",
       "        vertical-align: top;\n",
       "    }\n",
       "\n",
       "    .dataframe thead th {\n",
       "        text-align: right;\n",
       "    }\n",
       "</style>\n",
       "<table border=\"1\" class=\"dataframe\">\n",
       "  <thead>\n",
       "    <tr style=\"text-align: right;\">\n",
       "      <th></th>\n",
       "      <th>longitude</th>\n",
       "      <th>latitude</th>\n",
       "      <th>housing_median_age</th>\n",
       "      <th>total_rooms</th>\n",
       "      <th>total_bedrooms</th>\n",
       "      <th>population</th>\n",
       "      <th>households</th>\n",
       "      <th>median_income</th>\n",
       "      <th>median_house_value</th>\n",
       "    </tr>\n",
       "  </thead>\n",
       "  <tbody>\n",
       "    <tr>\n",
       "      <th>3021</th>\n",
       "      <td>-117.80</td>\n",
       "      <td>34.05</td>\n",
       "      <td>5.0</td>\n",
       "      <td>4536.0</td>\n",
       "      <td>1178.0</td>\n",
       "      <td>2485.0</td>\n",
       "      <td>909.0</td>\n",
       "      <td>4.1118</td>\n",
       "      <td>125900.0</td>\n",
       "    </tr>\n",
       "    <tr>\n",
       "      <th>15131</th>\n",
       "      <td>-122.26</td>\n",
       "      <td>37.84</td>\n",
       "      <td>52.0</td>\n",
       "      <td>950.0</td>\n",
       "      <td>202.0</td>\n",
       "      <td>467.0</td>\n",
       "      <td>198.0</td>\n",
       "      <td>3.9643</td>\n",
       "      <td>188800.0</td>\n",
       "    </tr>\n",
       "    <tr>\n",
       "      <th>13456</th>\n",
       "      <td>-121.95</td>\n",
       "      <td>37.34</td>\n",
       "      <td>25.0</td>\n",
       "      <td>5236.0</td>\n",
       "      <td>1320.0</td>\n",
       "      <td>2529.0</td>\n",
       "      <td>1213.0</td>\n",
       "      <td>3.1702</td>\n",
       "      <td>256100.0</td>\n",
       "    </tr>\n",
       "    <tr>\n",
       "      <th>8759</th>\n",
       "      <td>-118.60</td>\n",
       "      <td>34.07</td>\n",
       "      <td>16.0</td>\n",
       "      <td>319.0</td>\n",
       "      <td>59.0</td>\n",
       "      <td>149.0</td>\n",
       "      <td>64.0</td>\n",
       "      <td>4.6250</td>\n",
       "      <td>433300.0</td>\n",
       "    </tr>\n",
       "    <tr>\n",
       "      <th>397</th>\n",
       "      <td>-116.94</td>\n",
       "      <td>32.82</td>\n",
       "      <td>35.0</td>\n",
       "      <td>1737.0</td>\n",
       "      <td>285.0</td>\n",
       "      <td>826.0</td>\n",
       "      <td>294.0</td>\n",
       "      <td>3.2411</td>\n",
       "      <td>159200.0</td>\n",
       "    </tr>\n",
       "  </tbody>\n",
       "</table>\n",
       "</div>"
      ],
      "text/plain": [
       "       longitude  latitude  housing_median_age  total_rooms  total_bedrooms  \\\n",
       "3021     -117.80     34.05                 5.0       4536.0          1178.0   \n",
       "15131    -122.26     37.84                52.0        950.0           202.0   \n",
       "13456    -121.95     37.34                25.0       5236.0          1320.0   \n",
       "8759     -118.60     34.07                16.0        319.0            59.0   \n",
       "397      -116.94     32.82                35.0       1737.0           285.0   \n",
       "\n",
       "       population  households  median_income  median_house_value  \n",
       "3021       2485.0       909.0         4.1118            125900.0  \n",
       "15131       467.0       198.0         3.9643            188800.0  \n",
       "13456      2529.0      1213.0         3.1702            256100.0  \n",
       "8759        149.0        64.0         4.6250            433300.0  \n",
       "397         826.0       294.0         3.2411            159200.0  "
      ]
     },
     "execution_count": 3,
     "metadata": {},
     "output_type": "execute_result"
    }
   ],
   "source": [
    "train_df = train_df.reindex(np.random.permutation(train_df.index))\n",
    "train_df.head()"
   ]
  },
  {
   "cell_type": "markdown",
   "metadata": {},
   "source": [
    "#### Normalize Features using Z-Score\n",
    "z-score(value) = (value - mean) / std"
   ]
  },
  {
   "cell_type": "code",
   "execution_count": 4,
   "metadata": {},
   "outputs": [
    {
     "data": {
      "text/html": [
       "<div>\n",
       "<style scoped>\n",
       "    .dataframe tbody tr th:only-of-type {\n",
       "        vertical-align: middle;\n",
       "    }\n",
       "\n",
       "    .dataframe tbody tr th {\n",
       "        vertical-align: top;\n",
       "    }\n",
       "\n",
       "    .dataframe thead th {\n",
       "        text-align: right;\n",
       "    }\n",
       "</style>\n",
       "<table border=\"1\" class=\"dataframe\">\n",
       "  <thead>\n",
       "    <tr style=\"text-align: right;\">\n",
       "      <th></th>\n",
       "      <th>longitude</th>\n",
       "      <th>latitude</th>\n",
       "      <th>housing_median_age</th>\n",
       "      <th>total_rooms</th>\n",
       "      <th>total_bedrooms</th>\n",
       "      <th>population</th>\n",
       "      <th>households</th>\n",
       "      <th>median_income</th>\n",
       "      <th>median_house_value</th>\n",
       "    </tr>\n",
       "  </thead>\n",
       "  <tbody>\n",
       "    <tr>\n",
       "      <th>3021</th>\n",
       "      <td>0.878784</td>\n",
       "      <td>-0.737002</td>\n",
       "      <td>-1.874114</td>\n",
       "      <td>0.868065</td>\n",
       "      <td>1.515042</td>\n",
       "      <td>0.919478</td>\n",
       "      <td>1.060484</td>\n",
       "      <td>0.119603</td>\n",
       "      <td>-0.701830</td>\n",
       "    </tr>\n",
       "    <tr>\n",
       "      <th>15131</th>\n",
       "      <td>-1.345470</td>\n",
       "      <td>1.036230</td>\n",
       "      <td>1.859916</td>\n",
       "      <td>-0.776929</td>\n",
       "      <td>-0.800501</td>\n",
       "      <td>-0.838586</td>\n",
       "      <td>-0.788571</td>\n",
       "      <td>0.042304</td>\n",
       "      <td>-0.159513</td>\n",
       "    </tr>\n",
       "    <tr>\n",
       "      <th>13456</th>\n",
       "      <td>-1.190870</td>\n",
       "      <td>0.802294</td>\n",
       "      <td>-0.285165</td>\n",
       "      <td>1.189174</td>\n",
       "      <td>1.851934</td>\n",
       "      <td>0.957811</td>\n",
       "      <td>1.851078</td>\n",
       "      <td>-0.373857</td>\n",
       "      <td>0.420741</td>\n",
       "    </tr>\n",
       "    <tr>\n",
       "      <th>8759</th>\n",
       "      <td>0.479815</td>\n",
       "      <td>-0.727645</td>\n",
       "      <td>-1.000192</td>\n",
       "      <td>-1.066386</td>\n",
       "      <td>-1.139766</td>\n",
       "      <td>-1.115625</td>\n",
       "      <td>-1.137057</td>\n",
       "      <td>0.388554</td>\n",
       "      <td>1.948541</td>\n",
       "    </tr>\n",
       "    <tr>\n",
       "      <th>397</th>\n",
       "      <td>1.307676</td>\n",
       "      <td>-1.312484</td>\n",
       "      <td>0.509310</td>\n",
       "      <td>-0.415911</td>\n",
       "      <td>-0.603585</td>\n",
       "      <td>-0.525829</td>\n",
       "      <td>-0.538910</td>\n",
       "      <td>-0.336701</td>\n",
       "      <td>-0.414721</td>\n",
       "    </tr>\n",
       "  </tbody>\n",
       "</table>\n",
       "</div>"
      ],
      "text/plain": [
       "       longitude  latitude  housing_median_age  total_rooms  total_bedrooms  \\\n",
       "3021    0.878784 -0.737002           -1.874114     0.868065        1.515042   \n",
       "15131  -1.345470  1.036230            1.859916    -0.776929       -0.800501   \n",
       "13456  -1.190870  0.802294           -0.285165     1.189174        1.851934   \n",
       "8759    0.479815 -0.727645           -1.000192    -1.066386       -1.139766   \n",
       "397     1.307676 -1.312484            0.509310    -0.415911       -0.603585   \n",
       "\n",
       "       population  households  median_income  median_house_value  \n",
       "3021     0.919478    1.060484       0.119603           -0.701830  \n",
       "15131   -0.838586   -0.788571       0.042304           -0.159513  \n",
       "13456    0.957811    1.851078      -0.373857            0.420741  \n",
       "8759    -1.115625   -1.137057       0.388554            1.948541  \n",
       "397     -0.525829   -0.538910      -0.336701           -0.414721  "
      ]
     },
     "execution_count": 4,
     "metadata": {},
     "output_type": "execute_result"
    }
   ],
   "source": [
    "train_df_means = train_df.mean()\n",
    "train_df_stds = train_df.std()\n",
    "\n",
    "train_df_norm = (train_df - train_df_means) / train_df_stds # vectorization\n",
    "test_df_norm = (test_df - train_df_means) / train_df_stds\n",
    "train_df_norm.head()"
   ]
  },
  {
   "cell_type": "code",
   "execution_count": 5,
   "metadata": {},
   "outputs": [
    {
     "data": {
      "text/plain": [
       "array([[<AxesSubplot: title={'center': 'longitude'}>,\n",
       "        <AxesSubplot: title={'center': 'latitude'}>,\n",
       "        <AxesSubplot: title={'center': 'housing_median_age'}>],\n",
       "       [<AxesSubplot: title={'center': 'total_rooms'}>,\n",
       "        <AxesSubplot: title={'center': 'total_bedrooms'}>,\n",
       "        <AxesSubplot: title={'center': 'population'}>],\n",
       "       [<AxesSubplot: title={'center': 'households'}>,\n",
       "        <AxesSubplot: title={'center': 'median_income'}>,\n",
       "        <AxesSubplot: title={'center': 'median_house_value'}>]],\n",
       "      dtype=object)"
      ]
     },
     "execution_count": 5,
     "metadata": {},
     "output_type": "execute_result"
    },
    {
     "data": {
      "image/png": "[encoded data removed]",
      "text/plain": [
       "<Figure size 1000x800 with 9 Axes>"
      ]
     },
     "metadata": {},
     "output_type": "display_data"
    }
   ],
   "source": [
    "train_df_norm.hist(bins=20, figsize=(10, 8))"
   ]
  },
  {
   "cell_type": "markdown",
   "metadata": {},
   "source": [
    "#### Create a binary label"
   ]
  },
  {
   "cell_type": "code",
   "execution_count": 6,
   "metadata": {},
   "outputs": [
    {
     "data": {
      "text/html": [
       "<div>\n",
       "<style scoped>\n",
       "    .dataframe tbody tr th:only-of-type {\n",
       "        vertical-align: middle;\n",
       "    }\n",
       "\n",
       "    .dataframe tbody tr th {\n",
       "        vertical-align: top;\n",
       "    }\n",
       "\n",
       "    .dataframe thead th {\n",
       "        text-align: right;\n",
       "    }\n",
       "</style>\n",
       "<table border=\"1\" class=\"dataframe\">\n",
       "  <thead>\n",
       "    <tr style=\"text-align: right;\">\n",
       "      <th></th>\n",
       "      <th>longitude</th>\n",
       "      <th>latitude</th>\n",
       "      <th>housing_median_age</th>\n",
       "      <th>total_rooms</th>\n",
       "      <th>total_bedrooms</th>\n",
       "      <th>population</th>\n",
       "      <th>households</th>\n",
       "      <th>median_income</th>\n",
       "      <th>median_house_value</th>\n",
       "      <th>median_house_value_is_hight</th>\n",
       "    </tr>\n",
       "  </thead>\n",
       "  <tbody>\n",
       "    <tr>\n",
       "      <th>3021</th>\n",
       "      <td>0.878784</td>\n",
       "      <td>-0.737002</td>\n",
       "      <td>-1.874114</td>\n",
       "      <td>0.868065</td>\n",
       "      <td>1.515042</td>\n",
       "      <td>0.919478</td>\n",
       "      <td>1.060484</td>\n",
       "      <td>0.119603</td>\n",
       "      <td>-0.701830</td>\n",
       "      <td>0</td>\n",
       "    </tr>\n",
       "    <tr>\n",
       "      <th>15131</th>\n",
       "      <td>-1.345470</td>\n",
       "      <td>1.036230</td>\n",
       "      <td>1.859916</td>\n",
       "      <td>-0.776929</td>\n",
       "      <td>-0.800501</td>\n",
       "      <td>-0.838586</td>\n",
       "      <td>-0.788571</td>\n",
       "      <td>0.042304</td>\n",
       "      <td>-0.159513</td>\n",
       "      <td>0</td>\n",
       "    </tr>\n",
       "    <tr>\n",
       "      <th>13456</th>\n",
       "      <td>-1.190870</td>\n",
       "      <td>0.802294</td>\n",
       "      <td>-0.285165</td>\n",
       "      <td>1.189174</td>\n",
       "      <td>1.851934</td>\n",
       "      <td>0.957811</td>\n",
       "      <td>1.851078</td>\n",
       "      <td>-0.373857</td>\n",
       "      <td>0.420741</td>\n",
       "      <td>0</td>\n",
       "    </tr>\n",
       "    <tr>\n",
       "      <th>8759</th>\n",
       "      <td>0.479815</td>\n",
       "      <td>-0.727645</td>\n",
       "      <td>-1.000192</td>\n",
       "      <td>-1.066386</td>\n",
       "      <td>-1.139766</td>\n",
       "      <td>-1.115625</td>\n",
       "      <td>-1.137057</td>\n",
       "      <td>0.388554</td>\n",
       "      <td>1.948541</td>\n",
       "      <td>1</td>\n",
       "    </tr>\n",
       "    <tr>\n",
       "      <th>397</th>\n",
       "      <td>1.307676</td>\n",
       "      <td>-1.312484</td>\n",
       "      <td>0.509310</td>\n",
       "      <td>-0.415911</td>\n",
       "      <td>-0.603585</td>\n",
       "      <td>-0.525829</td>\n",
       "      <td>-0.538910</td>\n",
       "      <td>-0.336701</td>\n",
       "      <td>-0.414721</td>\n",
       "      <td>0</td>\n",
       "    </tr>\n",
       "  </tbody>\n",
       "</table>\n",
       "</div>"
      ],
      "text/plain": [
       "       longitude  latitude  housing_median_age  total_rooms  total_bedrooms  \\\n",
       "3021    0.878784 -0.737002           -1.874114     0.868065        1.515042   \n",
       "15131  -1.345470  1.036230            1.859916    -0.776929       -0.800501   \n",
       "13456  -1.190870  0.802294           -0.285165     1.189174        1.851934   \n",
       "8759    0.479815 -0.727645           -1.000192    -1.066386       -1.139766   \n",
       "397     1.307676 -1.312484            0.509310    -0.415911       -0.603585   \n",
       "\n",
       "       population  households  median_income  median_house_value  \\\n",
       "3021     0.919478    1.060484       0.119603           -0.701830   \n",
       "15131   -0.838586   -0.788571       0.042304           -0.159513   \n",
       "13456    0.957811    1.851078      -0.373857            0.420741   \n",
       "8759    -1.115625   -1.137057       0.388554            1.948541   \n",
       "397     -0.525829   -0.538910      -0.336701           -0.414721   \n",
       "\n",
       "       median_house_value_is_hight  \n",
       "3021                             0  \n",
       "15131                            0  \n",
       "13456                            0  \n",
       "8759                             1  \n",
       "397                              0  "
      ]
     },
     "execution_count": 6,
     "metadata": {},
     "output_type": "execute_result"
    }
   ],
   "source": [
    "threshold = 265000\n",
    "train_df_norm['median_house_value_is_hight'] = (train_df['median_house_value'] > threshold).astype(int)\n",
    "test_df_norm['median_house_value_is_hight'] = (test_df['median_house_value'] > threshold).astype(int)\n",
    "\n",
    "train_df_norm.head()"
   ]
  },
  {
   "cell_type": "code",
   "execution_count": 14,
   "metadata": {},
   "outputs": [
    {
     "data": {
      "text/plain": [
       "0    12753\n",
       "1     4247\n",
       "Name: median_house_value_is_hight, dtype: int64"
      ]
     },
     "execution_count": 14,
     "metadata": {},
     "output_type": "execute_result"
    }
   ],
   "source": [
    "# investigate the distribution of the label\n",
    "train_df_norm['median_house_value_is_hight'].value_counts()\n",
    "# => negative class is dominant"
   ]
  },
  {
   "cell_type": "markdown",
   "metadata": {},
   "source": [
    "#### Define model building & training Functions"
   ]
  },
  {
   "cell_type": "code",
   "execution_count": 7,
   "metadata": {},
   "outputs": [
    {
     "name": "stdout",
     "output_type": "stream",
     "text": [
      "Defined the create_model and train_model functions.\n"
     ]
    }
   ],
   "source": [
    "# select features\n",
    "inputs = {\n",
    "    'median_income': tf.keras.Input(shape=(1,)),\n",
    "    'total_rooms': tf.keras.Input(shape=(1,))\n",
    "}\n",
    "\n",
    "def create_model(my_inputs, my_learning_rate, METRICS):\n",
    "  concatenated_inputs = tf.keras.layers.Concatenate()(my_inputs.values())\n",
    "  dense = layers.Dense(units=1, name='dense_layer', activation=tf.sigmoid)\n",
    "  dense_output = dense(concatenated_inputs)\n",
    "  \"\"\"Create and compile a simple classification model.\"\"\"\n",
    "  my_outputs = {\n",
    "    'dense': dense_output,\n",
    "  }\n",
    "  model = tf.keras.Model(inputs=my_inputs, outputs=my_outputs)\n",
    "\n",
    "  model.compile(optimizer=tf.keras.optimizers.experimental.RMSprop(learning_rate=my_learning_rate),\n",
    "                loss=tf.keras.losses.BinaryCrossentropy(),\n",
    "                metrics=METRICS)\n",
    "  return model\n",
    "\n",
    "def train_model(model, dataset, epochs, label_name, batch_size=None, shuffle=True):\n",
    "  features = {name:np.array(value) for name, value in dataset.items()} # map all feature_name -> feature_value list\n",
    "  label = np.array(features.pop(label_name)) # label list\n",
    "\n",
    "  # The x parameter of tf.keras.Model.fit can be a list of arrays, where each array contains the data for one feature.  \n",
    "  # Here, we're passing every column in the dataset. Note that the feature_layer will filter away most of those columns, \n",
    "  # leaving only the desired columns and their representations as features.\n",
    "  history = model.fit(x=features, y=label, batch_size=batch_size, epochs=epochs, shuffle=shuffle)\n",
    "\n",
    "  # The list of epochs is stored separately from the rest of history.\n",
    "  epochs = history.epoch\n",
    "\n",
    "  # Isolate the classification metric for each epoch.\n",
    "  hist = pd.DataFrame(history.history)\n",
    "\n",
    "  return epochs, hist\n",
    "\n",
    "print(\"Defined the create_model and train_model functions.\")\n"
   ]
  },
  {
   "cell_type": "markdown",
   "metadata": {},
   "source": [
    "#### Define plot function"
   ]
  },
  {
   "cell_type": "code",
   "execution_count": 8,
   "metadata": {},
   "outputs": [],
   "source": [
    "def plot_curves(epochs, train_history, metrics):\n",
    "    plt.figure()\n",
    "    plt.xlabel(\"Epoch\")\n",
    "    plt.ylabel(\"Value\")\n",
    "\n",
    "    for m in metrics:\n",
    "        metric_values = train_history[m]\n",
    "        plt.plot(epochs[1:], metric_values[1:], label=m)\n",
    "    plt.legend()"
   ]
  },
  {
   "cell_type": "markdown",
   "metadata": {},
   "source": [
    "#### Train"
   ]
  },
  {
   "cell_type": "code",
   "execution_count": 19,
   "metadata": {},
   "outputs": [
    {
     "name": "stdout",
     "output_type": "stream",
     "text": [
      "Epoch 1/20\n"
     ]
    },
    {
     "name": "stderr",
     "output_type": "stream",
     "text": [
      "/home/tu/.local/lib/python3.8/site-packages/keras/engine/functional.py:639: UserWarning: Input dict contained keys ['longitude', 'latitude', 'housing_median_age', 'total_bedrooms', 'population', 'households', 'median_house_value'] which did not match any model input. They will be ignored by the model.\n",
      "  inputs = self._flatten_to_reference_inputs(inputs)\n"
     ]
    },
    {
     "name": "stdout",
     "output_type": "stream",
     "text": [
      "170/170 [==============================] - 1s 4ms/step - loss: 0.7240 - accuracy: 0.2474\n",
      "Epoch 2/20\n",
      "170/170 [==============================] - 1s 4ms/step - loss: 0.6347 - accuracy: 0.2535\n",
      "Epoch 3/20\n",
      "170/170 [==============================] - 1s 5ms/step - loss: 0.5672 - accuracy: 0.3842\n",
      "Epoch 4/20\n",
      "170/170 [==============================] - 1s 6ms/step - loss: 0.5168 - accuracy: 0.6830\n",
      "Epoch 5/20\n",
      "170/170 [==============================] - 1s 5ms/step - loss: 0.4794 - accuracy: 0.7635\n",
      "Epoch 6/20\n",
      "170/170 [==============================] - 1s 5ms/step - loss: 0.4520 - accuracy: 0.7918\n",
      "Epoch 7/20\n",
      "170/170 [==============================] - 1s 3ms/step - loss: 0.4325 - accuracy: 0.8033\n",
      "Epoch 8/20\n",
      "170/170 [==============================] - 1s 4ms/step - loss: 0.4191 - accuracy: 0.8093\n",
      "Epoch 9/20\n",
      "170/170 [==============================] - 1s 4ms/step - loss: 0.4101 - accuracy: 0.8105\n",
      "Epoch 10/20\n",
      "170/170 [==============================] - 1s 4ms/step - loss: 0.4044 - accuracy: 0.8109\n",
      "Epoch 11/20\n",
      "170/170 [==============================] - 1s 5ms/step - loss: 0.4009 - accuracy: 0.8095\n",
      "Epoch 12/20\n",
      "170/170 [==============================] - 0s 3ms/step - loss: 0.3988 - accuracy: 0.8095\n",
      "Epoch 13/20\n",
      "170/170 [==============================] - 1s 3ms/step - loss: 0.3977 - accuracy: 0.8089\n",
      "Epoch 14/20\n",
      "170/170 [==============================] - 0s 3ms/step - loss: 0.3972 - accuracy: 0.8091\n",
      "Epoch 15/20\n",
      "170/170 [==============================] - 1s 3ms/step - loss: 0.3969 - accuracy: 0.8086\n",
      "Epoch 16/20\n",
      "170/170 [==============================] - 0s 3ms/step - loss: 0.3967 - accuracy: 0.8082\n",
      "Epoch 17/20\n",
      "170/170 [==============================] - 0s 3ms/step - loss: 0.3967 - accuracy: 0.8085\n",
      "Epoch 18/20\n",
      "170/170 [==============================] - 0s 3ms/step - loss: 0.3966 - accuracy: 0.8092\n",
      "Epoch 19/20\n",
      "170/170 [==============================] - 0s 3ms/step - loss: 0.3966 - accuracy: 0.8095\n",
      "Epoch 20/20\n",
      "170/170 [==============================] - 0s 3ms/step - loss: 0.3966 - accuracy: 0.8094\n"
     ]
    },
    {
     "data": {
      "image/png": "[encoded data removed]",
      "text/plain": [
       "<Figure size 640x480 with 1 Axes>"
      ]
     },
     "metadata": {},
     "output_type": "display_data"
    }
   ],
   "source": [
    "learning_rate = 0.001\n",
    "epochs = 20\n",
    "batch_size = 100\n",
    "\n",
    "label_name = 'median_house_value_is_hight'\n",
    "classification_threshold = 0.35\n",
    "\n",
    "METRICS = [\n",
    "    tf.keras.metrics.BinaryAccuracy(name='accuracy', threshold=classification_threshold),\n",
    "    # tf.keras.metrics.Precision(name='precision', thresholds=classification_threshold),\n",
    "    # tf.keras.metrics.Recall(name='recall', thresholds=classification_threshold)\n",
    "]\n",
    "\n",
    "model = create_model(inputs, learning_rate, METRICS)\n",
    "\n",
    "epochs, train_hist = train_model(model, train_df_norm, epochs, label_name, batch_size)\n",
    "\n",
    "plot_metrics = ['accuracy']\n",
    "plot_curves(epochs, train_hist, plot_metrics)"
   ]
  },
  {
   "cell_type": "markdown",
   "metadata": {},
   "source": [
    "#### Test the model"
   ]
  },
  {
   "cell_type": "code",
   "execution_count": 11,
   "metadata": {},
   "outputs": [
    {
     "name": "stdout",
     "output_type": "stream",
     "text": [
      "30/30 [==============================] - 0s 2ms/step - loss: 0.4070 - accuracy: 0.8047\n"
     ]
    },
    {
     "name": "stderr",
     "output_type": "stream",
     "text": [
      "/home/tu/.local/lib/python3.8/site-packages/keras/engine/functional.py:639: UserWarning: Input dict contained keys ['longitude', 'latitude', 'housing_median_age', 'total_bedrooms', 'population', 'households', 'median_house_value'] which did not match any model input. They will be ignored by the model.\n",
      "  inputs = self._flatten_to_reference_inputs(inputs)\n"
     ]
    },
    {
     "data": {
      "text/plain": [
       "[0.40696629881858826, 0.8046666383743286]"
      ]
     },
     "execution_count": 11,
     "metadata": {},
     "output_type": "execute_result"
    }
   ],
   "source": [
    "features = {name:np.array(value) for name, value in test_df_norm.items()}\n",
    "label = np.array(features.pop(label_name))\n",
    "\n",
    "model.evaluate(x=features, y=label, batch_size=batch_size)"
   ]
  },
  {
   "cell_type": "markdown",
   "metadata": {},
   "source": [
    "#### Add Precision & Recall metrics"
   ]
  },
  {
   "cell_type": "code",
   "execution_count": 23,
   "metadata": {},
   "outputs": [
    {
     "name": "stdout",
     "output_type": "stream",
     "text": [
      "Epoch 1/20\n"
     ]
    },
    {
     "name": "stderr",
     "output_type": "stream",
     "text": [
      "/home/tu/.local/lib/python3.8/site-packages/keras/engine/functional.py:639: UserWarning: Input dict contained keys ['longitude', 'latitude', 'housing_median_age', 'total_bedrooms', 'population', 'households', 'median_house_value'] which did not match any model input. They will be ignored by the model.\n",
      "  inputs = self._flatten_to_reference_inputs(inputs)\n"
     ]
    },
    {
     "name": "stdout",
     "output_type": "stream",
     "text": [
      "170/170 [==============================] - 1s 1ms/step - loss: 0.7124 - accuracy: 0.2555 - precision: 0.2359 - recall: 0.8846\n",
      "Epoch 2/20\n",
      "170/170 [==============================] - 0s 1ms/step - loss: 0.6345 - accuracy: 0.3571 - precision: 0.2712 - recall: 0.9327\n",
      "Epoch 3/20\n",
      "170/170 [==============================] - 0s 2ms/step - loss: 0.5708 - accuracy: 0.5548 - precision: 0.3475 - recall: 0.8912\n",
      "Epoch 4/20\n",
      "170/170 [==============================] - 0s 2ms/step - loss: 0.5200 - accuracy: 0.6924 - precision: 0.4362 - recall: 0.7900\n",
      "Epoch 5/20\n",
      "170/170 [==============================] - 0s 2ms/step - loss: 0.4812 - accuracy: 0.7602 - precision: 0.5147 - recall: 0.7045\n",
      "Epoch 6/20\n",
      "170/170 [==============================] - 0s 2ms/step - loss: 0.4528 - accuracy: 0.7874 - precision: 0.5647 - recall: 0.6496\n",
      "Epoch 7/20\n",
      "170/170 [==============================] - 0s 2ms/step - loss: 0.4330 - accuracy: 0.8028 - precision: 0.6023 - recall: 0.6202\n",
      "Epoch 8/20\n",
      "170/170 [==============================] - 1s 3ms/step - loss: 0.4194 - accuracy: 0.8088 - precision: 0.6191 - recall: 0.6096\n",
      "Epoch 9/20\n",
      "170/170 [==============================] - 0s 2ms/step - loss: 0.4104 - accuracy: 0.8108 - precision: 0.6250 - recall: 0.6070\n",
      "Epoch 10/20\n",
      "170/170 [==============================] - 0s 2ms/step - loss: 0.4046 - accuracy: 0.8108 - precision: 0.6244 - recall: 0.6091\n",
      "Epoch 11/20\n",
      "170/170 [==============================] - 0s 3ms/step - loss: 0.4010 - accuracy: 0.8099 - precision: 0.6220 - recall: 0.6098\n",
      "Epoch 12/20\n",
      "170/170 [==============================] - 1s 3ms/step - loss: 0.3990 - accuracy: 0.8086 - precision: 0.6172 - recall: 0.6157\n",
      "Epoch 13/20\n",
      "170/170 [==============================] - 1s 3ms/step - loss: 0.3979 - accuracy: 0.8091 - precision: 0.6187 - recall: 0.6141\n",
      "Epoch 14/20\n",
      "170/170 [==============================] - 1s 4ms/step - loss: 0.3973 - accuracy: 0.8086 - precision: 0.6176 - recall: 0.6146\n",
      "Epoch 15/20\n",
      "170/170 [==============================] - 1s 4ms/step - loss: 0.3970 - accuracy: 0.8088 - precision: 0.6178 - recall: 0.6148\n",
      "Epoch 16/20\n",
      "170/170 [==============================] - 1s 3ms/step - loss: 0.3968 - accuracy: 0.8086 - precision: 0.6173 - recall: 0.6153\n",
      "Epoch 17/20\n",
      "170/170 [==============================] - 1s 3ms/step - loss: 0.3967 - accuracy: 0.8088 - precision: 0.6177 - recall: 0.6153\n",
      "Epoch 18/20\n",
      "170/170 [==============================] - 1s 3ms/step - loss: 0.3966 - accuracy: 0.8092 - precision: 0.6190 - recall: 0.6148\n",
      "Epoch 19/20\n",
      "170/170 [==============================] - 1s 4ms/step - loss: 0.3966 - accuracy: 0.8093 - precision: 0.6197 - recall: 0.6127\n",
      "Epoch 20/20\n",
      "170/170 [==============================] - 1s 4ms/step - loss: 0.3966 - accuracy: 0.8092 - precision: 0.6192 - recall: 0.6138\n"
     ]
    },
    {
     "data": {
      "image/png": "[encoded data removed]",
      "text/plain": [
       "<Figure size 640x480 with 1 Axes>"
      ]
     },
     "metadata": {},
     "output_type": "display_data"
    }
   ],
   "source": [
    "learning_rate = 0.001\n",
    "epochs = 20\n",
    "batch_size = 100\n",
    "\n",
    "label_name = 'median_house_value_is_hight'\n",
    "classification_threshold = 0.35\n",
    "\n",
    "METRICS = [\n",
    "    tf.keras.metrics.BinaryAccuracy(name='accuracy', threshold=classification_threshold),\n",
    "    tf.keras.metrics.Precision(name='precision', thresholds=classification_threshold),\n",
    "    tf.keras.metrics.Recall(name='recall', thresholds=classification_threshold)\n",
    "]\n",
    "\n",
    "model = create_model(inputs, learning_rate, METRICS)\n",
    "epochs, train_hist = train_model(model, train_df_norm, epochs, label_name, batch_size)\n",
    "plot_metrics = ['accuracy', 'precision', 'recall']\n",
    "plot_curves(epochs, train_hist, plot_metrics)\n"
   ]
  },
  {
   "cell_type": "markdown",
   "metadata": {},
   "source": [
    "#### Try AUC metric - as 'summary' metric for classification models"
   ]
  },
  {
   "cell_type": "code",
   "execution_count": 28,
   "metadata": {},
   "outputs": [
    {
     "name": "stdout",
     "output_type": "stream",
     "text": [
      "Epoch 1/20\n"
     ]
    },
    {
     "name": "stderr",
     "output_type": "stream",
     "text": [
      "/home/tu/.local/lib/python3.8/site-packages/keras/engine/functional.py:639: UserWarning: Input dict contained keys ['longitude', 'latitude', 'housing_median_age', 'total_bedrooms', 'population', 'households', 'median_house_value'] which did not match any model input. They will be ignored by the model.\n",
      "  inputs = self._flatten_to_reference_inputs(inputs)\n"
     ]
    },
    {
     "name": "stdout",
     "output_type": "stream",
     "text": [
      "170/170 [==============================] - 1s 3ms/step - loss: 0.9614 - auc: 0.2388\n",
      "Epoch 2/20\n",
      "170/170 [==============================] - 1s 4ms/step - loss: 0.8338 - auc: 0.2540\n",
      "Epoch 3/20\n",
      "170/170 [==============================] - 0s 2ms/step - loss: 0.7248 - auc: 0.2859\n",
      "Epoch 4/20\n",
      "170/170 [==============================] - 0s 2ms/step - loss: 0.6354 - auc: 0.3920\n",
      "Epoch 5/20\n",
      "170/170 [==============================] - 0s 2ms/step - loss: 0.5645 - auc: 0.6346\n",
      "Epoch 6/20\n",
      "170/170 [==============================] - 0s 2ms/step - loss: 0.5122 - auc: 0.7881\n",
      "Epoch 7/20\n",
      "170/170 [==============================] - 0s 2ms/step - loss: 0.4752 - auc: 0.8325\n",
      "Epoch 8/20\n",
      "170/170 [==============================] - 0s 3ms/step - loss: 0.4503 - auc: 0.8351\n",
      "Epoch 9/20\n",
      "170/170 [==============================] - 0s 3ms/step - loss: 0.4331 - auc: 0.8355\n",
      "Epoch 10/20\n",
      "170/170 [==============================] - 0s 3ms/step - loss: 0.4208 - auc: 0.8354\n",
      "Epoch 11/20\n",
      "170/170 [==============================] - 0s 3ms/step - loss: 0.4119 - auc: 0.8358\n",
      "Epoch 12/20\n",
      "170/170 [==============================] - 0s 3ms/step - loss: 0.4055 - auc: 0.8363\n",
      "Epoch 13/20\n",
      "170/170 [==============================] - 0s 3ms/step - loss: 0.4015 - auc: 0.8366\n",
      "Epoch 14/20\n",
      "170/170 [==============================] - 1s 3ms/step - loss: 0.3992 - auc: 0.8367\n",
      "Epoch 15/20\n",
      "170/170 [==============================] - 0s 3ms/step - loss: 0.3980 - auc: 0.8367\n",
      "Epoch 16/20\n",
      "170/170 [==============================] - 0s 3ms/step - loss: 0.3973 - auc: 0.8368\n",
      "Epoch 17/20\n",
      "170/170 [==============================] - 0s 3ms/step - loss: 0.3970 - auc: 0.8368\n",
      "Epoch 18/20\n",
      "170/170 [==============================] - 0s 3ms/step - loss: 0.3968 - auc: 0.8368\n",
      "Epoch 19/20\n",
      "170/170 [==============================] - 1s 3ms/step - loss: 0.3967 - auc: 0.8366\n",
      "Epoch 20/20\n",
      "170/170 [==============================] - 1s 3ms/step - loss: 0.3967 - auc: 0.8368\n"
     ]
    },
    {
     "data": {
      "image/png": "[encoded data removed]",
      "text/plain": [
       "<Figure size 640x480 with 1 Axes>"
      ]
     },
     "metadata": {},
     "output_type": "display_data"
    }
   ],
   "source": [
    "learning_rate = 0.001\n",
    "epochs = 20\n",
    "batch_size = 100\n",
    "\n",
    "label_name = 'median_house_value_is_hight'\n",
    "classification_threshold = 0.35\n",
    "\n",
    "METRICS = [\n",
    "    tf.keras.metrics.AUC(name='auc', num_thresholds=100)\n",
    "]\n",
    "\n",
    "model = create_model(inputs, learning_rate, METRICS)\n",
    "epochs, train_hist = train_model(model, train_df_norm, epochs, label_name, batch_size)\n",
    "plot_metrics = ['auc']\n",
    "plot_curves(epochs, train_hist, plot_metrics)\n"
   ]
  }
 ],
 "metadata": {
  "kernelspec": {
   "display_name": "Python 3",
   "language": "python",
   "name": "python3"
  },
  "language_info": {
   "codemirror_mode": {
    "name": "ipython",
    "version": 3
   },
   "file_extension": ".py",
   "mimetype": "text/x-python",
   "name": "python",
   "nbconvert_exporter": "python",
   "pygments_lexer": "ipython3",
   "version": "3.8.10"
  },
  "orig_nbformat": 4
 },
 "nbformat": 4,
 "nbformat_minor": 2
}
