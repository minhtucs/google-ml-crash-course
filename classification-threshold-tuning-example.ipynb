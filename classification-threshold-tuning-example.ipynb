{
 "cells": [
  {
   "cell_type": "markdown",
   "metadata": {},
   "source": [
    "#### Minh họa về Threshold và FPR (False Positive Rate)\n",
    "https://machinelearningcoban.com/2017/08/31/evaluation/"
   ]
  },
  {
   "cell_type": "code",
   "execution_count": 36,
   "metadata": {},
   "outputs": [],
   "source": [
    "import numpy as np\n",
    "import sklearn.metrics as metrics\n",
    "import pandas as pd\n",
    "import matplotlib.pyplot as plt"
   ]
  },
  {
   "cell_type": "code",
   "execution_count": 37,
   "metadata": {},
   "outputs": [
    {
     "name": "stdout",
     "output_type": "stream",
     "text": [
      "[0.31881051 0.3343628  0.29838347 0.4215987  0.21946216 0.08053496\n",
      " 0.15971466 0.32310227 0.21239887 0.39849833 0.42131929 0.25440945\n",
      " 0.04696871 0.45723596 0.13960317 0.40476042 0.03737876 0.46516783\n",
      " 0.28661117 0.05172079 0.38849282 0.37946664 0.50542744 0.3257524\n",
      " 0.47648813 0.43335167 0.62439243 0.46400435 0.62542106 0.69253223\n",
      " 0.47703186 0.33225476 0.40403259 0.67121165 0.64861567 0.57907418\n",
      " 0.61379234 0.31474915 0.23297561 0.40261961 0.43886988 0.46415099\n",
      " 0.3607521  0.59862696 0.39247693 0.68129169 0.40083252 0.42871448\n",
      " 0.41202764 0.4229123 ]\n",
      "[0 0 0 0 0 0 0 0 0 0 0 0 0 0 0 0 0 0 0 0 1 1 1 1 1 1 1 1 1 1 1 1 1 1 1 1 1\n",
      " 1 1 1 1 1 1 1 1 1 1 1 1 1]\n"
     ]
    }
   ],
   "source": [
    "n0 = 20 # total negative label\n",
    "n1 = 30 # total positive label\n",
    "\n",
    "predicted_scores_0 = np.random.rand(n0)/2 # force values less than 0.5\n",
    "labels_0 = np.zeros(n0, dtype=int)\n",
    "\n",
    "predicted_scores_1 = np.random.rand(n1)/2 + 0.2 # in general, positive scores are larger than negative scores\n",
    "labels_1 = np.ones(n1, dtype=int)\n",
    "\n",
    "predicted_scores = np.concatenate([predicted_scores_0, predicted_scores_1])\n",
    "labels = np.concatenate([labels_0, labels_1])\n",
    "\n",
    "print(predicted_scores)\n",
    "print(labels)"
   ]
  },
  {
   "cell_type": "code",
   "execution_count": 38,
   "metadata": {},
   "outputs": [
    {
     "name": "stdout",
     "output_type": "stream",
     "text": [
      "thresholds: [1.69253223 0.69253223 0.47648813 0.46516783 0.46400435 0.45723596\n",
      " 0.4229123  0.42131929 0.41202764 0.40476042 0.40083252 0.39849833\n",
      " 0.3607521  0.3343628  0.3257524  0.31881051 0.31474915 0.25440945\n",
      " 0.23297561 0.03737876]\n",
      "FPR: [0.   0.   0.   0.05 0.05 0.1  0.1  0.2  0.2  0.25 0.25 0.3  0.3  0.35\n",
      " 0.35 0.45 0.45 0.6  0.6  1.  ]\n",
      "TPR: [0.         0.03333333 0.4        0.4        0.46666667 0.46666667\n",
      " 0.6        0.6        0.63333333 0.63333333 0.73333333 0.73333333\n",
      " 0.86666667 0.86666667 0.93333333 0.93333333 0.96666667 0.96666667\n",
      " 1.         1.        ]\n"
     ]
    }
   ],
   "source": [
    "# sklearn will suggest a list of thresholds and corresponding FPRs, TPRs \n",
    "fpr, tpr, thresholds = metrics.roc_curve(y_true=labels, y_score=predicted_scores, pos_label=1)\n",
    "print(f'thresholds: {thresholds}')\n",
    "print(f'FPR: {fpr}')\n",
    "print(f'TPR: {tpr}')"
   ]
  },
  {
   "cell_type": "code",
   "execution_count": 39,
   "metadata": {},
   "outputs": [
    {
     "data": {
      "text/html": [
       "<div>\n",
       "<style scoped>\n",
       "    .dataframe tbody tr th:only-of-type {\n",
       "        vertical-align: middle;\n",
       "    }\n",
       "\n",
       "    .dataframe tbody tr th {\n",
       "        vertical-align: top;\n",
       "    }\n",
       "\n",
       "    .dataframe thead th {\n",
       "        text-align: right;\n",
       "    }\n",
       "</style>\n",
       "<table border=\"1\" class=\"dataframe\">\n",
       "  <thead>\n",
       "    <tr style=\"text-align: right;\">\n",
       "      <th></th>\n",
       "      <th>Threshold</th>\n",
       "      <th>FPR</th>\n",
       "      <th>TPR</th>\n",
       "    </tr>\n",
       "  </thead>\n",
       "  <tbody>\n",
       "    <tr>\n",
       "      <th>0</th>\n",
       "      <td>1.692532</td>\n",
       "      <td>0.00</td>\n",
       "      <td>0.000000</td>\n",
       "    </tr>\n",
       "    <tr>\n",
       "      <th>1</th>\n",
       "      <td>0.692532</td>\n",
       "      <td>0.00</td>\n",
       "      <td>0.033333</td>\n",
       "    </tr>\n",
       "    <tr>\n",
       "      <th>2</th>\n",
       "      <td>0.476488</td>\n",
       "      <td>0.00</td>\n",
       "      <td>0.400000</td>\n",
       "    </tr>\n",
       "    <tr>\n",
       "      <th>3</th>\n",
       "      <td>0.465168</td>\n",
       "      <td>0.05</td>\n",
       "      <td>0.400000</td>\n",
       "    </tr>\n",
       "    <tr>\n",
       "      <th>4</th>\n",
       "      <td>0.464004</td>\n",
       "      <td>0.05</td>\n",
       "      <td>0.466667</td>\n",
       "    </tr>\n",
       "    <tr>\n",
       "      <th>5</th>\n",
       "      <td>0.457236</td>\n",
       "      <td>0.10</td>\n",
       "      <td>0.466667</td>\n",
       "    </tr>\n",
       "    <tr>\n",
       "      <th>6</th>\n",
       "      <td>0.422912</td>\n",
       "      <td>0.10</td>\n",
       "      <td>0.600000</td>\n",
       "    </tr>\n",
       "    <tr>\n",
       "      <th>7</th>\n",
       "      <td>0.421319</td>\n",
       "      <td>0.20</td>\n",
       "      <td>0.600000</td>\n",
       "    </tr>\n",
       "    <tr>\n",
       "      <th>8</th>\n",
       "      <td>0.412028</td>\n",
       "      <td>0.20</td>\n",
       "      <td>0.633333</td>\n",
       "    </tr>\n",
       "    <tr>\n",
       "      <th>9</th>\n",
       "      <td>0.404760</td>\n",
       "      <td>0.25</td>\n",
       "      <td>0.633333</td>\n",
       "    </tr>\n",
       "    <tr>\n",
       "      <th>10</th>\n",
       "      <td>0.400833</td>\n",
       "      <td>0.25</td>\n",
       "      <td>0.733333</td>\n",
       "    </tr>\n",
       "    <tr>\n",
       "      <th>11</th>\n",
       "      <td>0.398498</td>\n",
       "      <td>0.30</td>\n",
       "      <td>0.733333</td>\n",
       "    </tr>\n",
       "    <tr>\n",
       "      <th>12</th>\n",
       "      <td>0.360752</td>\n",
       "      <td>0.30</td>\n",
       "      <td>0.866667</td>\n",
       "    </tr>\n",
       "    <tr>\n",
       "      <th>13</th>\n",
       "      <td>0.334363</td>\n",
       "      <td>0.35</td>\n",
       "      <td>0.866667</td>\n",
       "    </tr>\n",
       "    <tr>\n",
       "      <th>14</th>\n",
       "      <td>0.325752</td>\n",
       "      <td>0.35</td>\n",
       "      <td>0.933333</td>\n",
       "    </tr>\n",
       "    <tr>\n",
       "      <th>15</th>\n",
       "      <td>0.318811</td>\n",
       "      <td>0.45</td>\n",
       "      <td>0.933333</td>\n",
       "    </tr>\n",
       "    <tr>\n",
       "      <th>16</th>\n",
       "      <td>0.314749</td>\n",
       "      <td>0.45</td>\n",
       "      <td>0.966667</td>\n",
       "    </tr>\n",
       "    <tr>\n",
       "      <th>17</th>\n",
       "      <td>0.254409</td>\n",
       "      <td>0.60</td>\n",
       "      <td>0.966667</td>\n",
       "    </tr>\n",
       "    <tr>\n",
       "      <th>18</th>\n",
       "      <td>0.232976</td>\n",
       "      <td>0.60</td>\n",
       "      <td>1.000000</td>\n",
       "    </tr>\n",
       "    <tr>\n",
       "      <th>19</th>\n",
       "      <td>0.037379</td>\n",
       "      <td>1.00</td>\n",
       "      <td>1.000000</td>\n",
       "    </tr>\n",
       "  </tbody>\n",
       "</table>\n",
       "</div>"
      ],
      "text/plain": [
       "    Threshold   FPR       TPR\n",
       "0    1.692532  0.00  0.000000\n",
       "1    0.692532  0.00  0.033333\n",
       "2    0.476488  0.00  0.400000\n",
       "3    0.465168  0.05  0.400000\n",
       "4    0.464004  0.05  0.466667\n",
       "5    0.457236  0.10  0.466667\n",
       "6    0.422912  0.10  0.600000\n",
       "7    0.421319  0.20  0.600000\n",
       "8    0.412028  0.20  0.633333\n",
       "9    0.404760  0.25  0.633333\n",
       "10   0.400833  0.25  0.733333\n",
       "11   0.398498  0.30  0.733333\n",
       "12   0.360752  0.30  0.866667\n",
       "13   0.334363  0.35  0.866667\n",
       "14   0.325752  0.35  0.933333\n",
       "15   0.318811  0.45  0.933333\n",
       "16   0.314749  0.45  0.966667\n",
       "17   0.254409  0.60  0.966667\n",
       "18   0.232976  0.60  1.000000\n",
       "19   0.037379  1.00  1.000000"
      ]
     },
     "execution_count": 39,
     "metadata": {},
     "output_type": "execute_result"
    }
   ],
   "source": [
    "# just format for readable\n",
    "df = pd.DataFrame(data=[thresholds, fpr, tpr], index=['Threshold', 'FPR', 'TPR'])\n",
    "df.T # transpose"
   ]
  },
  {
   "cell_type": "code",
   "execution_count": 40,
   "metadata": {},
   "outputs": [
    {
     "data": {
      "image/png": "[encoded data removed]",
      "text/plain": [
       "<Figure size 500x400 with 1 Axes>"
      ]
     },
     "metadata": {},
     "output_type": "display_data"
    }
   ],
   "source": [
    "plt.figure(figsize=(5, 4))\n",
    "plt.plot(fpr, tpr, label='ROC curve')\n",
    "plt.xlabel('FPR')\n",
    "plt.ylabel('TPR')\n",
    "\n",
    "plt.plot([0,1], [0,1], linestyle='--')\n",
    "\n",
    "plt.xlim([0,1]) # limit x-axis\n",
    "plt.ylim([0,1]) # limit y-axis\n",
    "\n",
    "plt.title('ROC curve')\n",
    "plt.legend()\n",
    "plt.show()"
   ]
  }
 ],
 "metadata": {
  "kernelspec": {
   "display_name": "Python 3",
   "language": "python",
   "name": "python3"
  },
  "language_info": {
   "codemirror_mode": {
    "name": "ipython",
    "version": 3
   },
   "file_extension": ".py",
   "mimetype": "text/x-python",
   "name": "python",
   "nbconvert_exporter": "python",
   "pygments_lexer": "ipython3",
   "version": "3.8.10"
  },
  "orig_nbformat": 4
 },
 "nbformat": 4,
 "nbformat_minor": 2
}
